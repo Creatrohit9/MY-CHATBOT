{
  "nbformat": 4,
  "nbformat_minor": 0,
  "metadata": {
    "colab": {
      "name": "MyChatBot.ipynb",
      "provenance": [],
      "authorship_tag": "ABX9TyMD1jqC3Gmwd3u1ggPc8IIa",
      "include_colab_link": true
    },
    "kernelspec": {
      "name": "python3",
      "display_name": "Python 3"
    },
    "language_info": {
      "name": "python"
    }
  },
  "cells": [
    {
      "cell_type": "markdown",
      "metadata": {
        "id": "view-in-github",
        "colab_type": "text"
      },
      "source": [
        "<a href=\"https://colab.research.google.com/github/Creatrohit9/MY-CHATBOT/blob/main/MyChatBot.ipynb\" target=\"_parent\"><img src=\"https://colab.research.google.com/assets/colab-badge.svg\" alt=\"Open In Colab\"/></a>"
      ]
    },
    {
      "cell_type": "code",
      "execution_count": 2,
      "metadata": {
        "id": "FPczHWv7rPl8"
      },
      "outputs": [],
      "source": [
        "# import en_core_web_lg # Large SpaCy model for English language\n",
        "import numpy as np\n",
        "import re # regular expressions\n",
        "import spacy # NLU library\n",
        "\n",
        "from collections import defaultdict\n",
        "from sklearn.svm import SVC # Support Vector Classification model"
      ]
    },
    {
      "cell_type": "code",
      "source": [
        "output_format = \"IN: {input}\\nOUT: {output}\\n\" + \"_\"*50"
      ],
      "metadata": {
        "id": "MnFQ3azMrcfw"
      },
      "execution_count": 3,
      "outputs": []
    },
    {
      "cell_type": "code",
      "source": [
        "# Version 1: Use exact matches\n",
        "# hard-coded exact questions\n",
        "responses_exact = {\n",
        "    \"what would you like to eat tonight?\": \"Pasta with salmon and red pesto please!\",\n",
        "    \"what time will you be home tonight?\": \"I will be home around 6 pm.\",\n",
        "    \"default\": \"I love you too!\"\n",
        "}\n",
        "\n",
        "def respond_exact(text):\n",
        "    response = responses_exact.get(text.lower(), responses_exact['default'])\n",
        "    return(output_format.format(input=text, output=response))"
      ],
      "metadata": {
        "id": "ypfyvTOGruS5"
      },
      "execution_count": 4,
      "outputs": []
    },
    {
      "cell_type": "code",
      "source": [
        "print(respond_exact(\"What would you like to eat tonight?\"))\n",
        "print(\"_\"*50)\n",
        "print(respond_exact(\"What time will you be home tonight?\"))\n",
        "print(\"_\"*50)\n",
        "print(respond_exact(\"I just found out my boss is leaving the company.\"))"
      ],
      "metadata": {
        "colab": {
          "base_uri": "https://localhost:8080/"
        },
        "id": "MS6O2GYUr5Vf",
        "outputId": "171fdf9a-1102-40bb-996d-2a0609994348"
      },
      "execution_count": 5,
      "outputs": [
        {
          "output_type": "stream",
          "name": "stdout",
          "text": [
            "IN: What would you like to eat tonight?\n",
            "OUT: Pasta with salmon and red pesto please!\n",
            "__________________________________________________\n",
            "__________________________________________________\n",
            "IN: What time will you be home tonight?\n",
            "OUT: I will be home around 6 pm.\n",
            "__________________________________________________\n",
            "__________________________________________________\n",
            "IN: I just found out my boss is leaving the company.\n",
            "OUT: I love you too!\n",
            "__________________________________________________\n"
          ]
        }
      ]
    },
    {
      "cell_type": "code",
      "source": [
        ""
      ],
      "metadata": {
        "id": "2Y4RG5XbtxaQ"
      },
      "execution_count": null,
      "outputs": []
    }
  ]
}